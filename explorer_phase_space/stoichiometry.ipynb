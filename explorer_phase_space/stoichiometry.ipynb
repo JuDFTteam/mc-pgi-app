{
 "cells": [
  {
   "cell_type": "code",
   "execution_count": 2,
   "metadata": {},
   "outputs": [],
   "source": [
    "# In here the user can specify a certain Stoichiometry\n",
    "# we search the database for all elements contained in this Stoichiometry\n",
    "# compounds with these elements\n",
    "# (fleur_initial_cls_wc) we construct reactions equation out of these and \n",
    "# calculate an reaction enhalpy for them\n",
    "# then we have a link to the xps spectra plot\n",
    "# also allow the user to provide the input from what these reaction should be constructed."
   ]
  },
  {
   "cell_type": "markdown",
   "metadata": {},
   "source": [
    "# Searching for stable reactions"
   ]
  },
  {
   "cell_type": "markdown",
   "metadata": {},
   "source": [
    "Welcome! Here you can extract maybe stable reactions from DFT data. The GUI is for a quite simple specific querry. Enjoy! Created @ PGI-1 by Jens Broeder"
   ]
  },
  {
   "cell_type": "code",
   "execution_count": 3,
   "metadata": {},
   "outputs": [],
   "source": [
    "%load_ext autoreload\n",
    "%autoreload 2\n",
    "#%matplotlib notebook\n",
    "%matplotlib inline"
   ]
  },
  {
   "cell_type": "code",
   "execution_count": 4,
   "metadata": {},
   "outputs": [],
   "source": [
    "from aiida import load_dbenv, is_dbenv_loaded\n",
    "from aiida.backends import settings\n",
    "if not is_dbenv_loaded():\n",
    "    load_dbenv(profile=settings.AIIDADB_PROFILE)\n",
    "    \n",
    "from aiida.orm.querybuilder import QueryBuilder\n",
    "from aiida.orm.calculation.work import WorkCalculation\n",
    "from aiida.orm.calculation.job import JobCalculation\n",
    "from aiida.orm.data.parameter import ParameterData\n",
    "from plot_methods.plot_fleur_aiida import plot_spectra\n",
    "import plot_methods\n",
    "from aiida_fleur.tools.common_fleur_wf import determine_favorable_reaction\n",
    "from aiida_fleur.tools.common_fleur_wf_util import determine_reactions\n",
    "\n",
    "from base64 import b64encode\n",
    "import StringIO\n",
    "import numpy as np\n",
    "import ipywidgets as ipw\n",
    "import matplotlib.pyplot as plt\n",
    "from IPython.display import display, clear_output\n",
    "import ase\n",
    "\n",
    "from ase.data import covalent_radii, atomic_numbers\n",
    "from ase.data.colors import cpk_colors\n",
    "from ase.neighborlist import NeighborList"
   ]
  },
  {
   "cell_type": "code",
   "execution_count": 5,
   "metadata": {},
   "outputs": [
    {
     "name": "stdout",
     "output_type": "stream",
     "text": [
      "['1*Be12Ti->1*Be12Ti', '2*Be12Ti->1*Be17Ti2+7*Be', '1*Be12Ti->1*BeTi+11*Be', '1*Be12Ti->1*Ti+12*Be', '1*Be12Ti->10*Be+1*Be2Ti', '4*Be12Ti->40*Be+1*Be8Ti4']\n"
     ]
    }
   ],
   "source": [
    "reac = determine_reactions('Be12Ti', ['Be12Ti', 'Be17Ti2', 'BeTi', 'Ti', 'Be', 'Be2Ti', 'Be8Ti4'])\n",
    "print reac"
   ]
  },
  {
   "cell_type": "code",
   "execution_count": null,
   "metadata": {},
   "outputs": [],
   "source": [
    "def rank_reactions_for_stoi():\n",
    "    reac = determine_reactions('Be12Ti', ['Be12Ti', 'Be17Ti2', 'BeTi', 'Ti', 'Be', 'Be2Ti', 'Be8Ti4'])\n",
    "    print reac\n",
    "    \n",
    "    # query for workchains with these compounds....\n",
    "    \n",
    "    # determine favorable reactions\n",
    "    #determine_favorable_reaction(reac, )\n",
    "    \n",
    "    \n",
    "    fav_reaction = []\n",
    "    \n",
    "    # html table header\n",
    "    html  = '<style>#aiida_results td,th {padding: 2px}</style>' \n",
    "    html += '<form action=\"display.ipynb\" method=\"get\" target=\"_blank\">'\n",
    "    #html += '<th></th>'\n",
    "    html += 'Mixed spectra with same Stoichiometry'\n",
    "    html += '<table border=1 id=\"aiida_results\" style=\"margin:10px;\"><tr>'\n",
    "    html += '<th></th>'\n",
    "    html += '<th>Reaction</th>'\n",
    "    html += '<th>Formation energy [eV per atom]</th>'\n",
    "    html += '<th>PKs</th>'\n",
    "    html += '<th>Details</th>'\n",
    "    html += '</tr>'\n",
    "    \n",
    "  \n",
    "    for i, node_tuple in enumerate(qb.iterall()):\n",
    "            \n",
    "        # append table row\n",
    "        html += '<tr>'\n",
    "        html += '<td><input type=\"checkbox\" name=\"pk\" value=\"%s\"></td>'%node.pk\n",
    "        html += '<td><a target=\"_blank\" href=\"../../aiida/aiida_graph_browser.ipynb?pk=%d\">%d</a></td>' % (node.pk, node.pk)\n",
    "        #html += '<td>%s</td>' % node.uuid\n",
    "        html += '<td>%s</td>' % plabel#('process_label', '..')\n",
    "        html += '<td>%s</td>' % node.ctime.strftime(\"%Y-%m-%d %H:%M\")\n",
    "        html += '<td>%s</td>' % formula\n",
    "        html += '<td>%s</td>' % extras.get('space_group', '..')\n",
    "        html += '<td>%f</td>' % bandgap#bandgap if bandgap else -100\n",
    "        html += '<td>%f</td>' % efermi\n",
    "        html += '<td><a target=\"_blank\" href=\"../util/export_structure.ipynb?uuid=%s\">'% structure_uuid\n",
    "        html += '<img src=\"data:image/png;base64,%s\" title=\"%s\"></a></td>' % (thumbnail, description)\n",
    "        html += '<td><a target=\"_blank\" href=\"./display.ipynb?pk=%s\">Show</a><br>'%node.pk\n",
    "        html += '</td>'# TODO link to plot spectra notebook\n",
    "        #html += '<td><a target=\"_blank\" href=\"./show.ipynb?pk=%s\">Show</a><br>'%node.pk\n",
    "        #html += '<a target=\"_blank\" href=\"./show_pdos.ipynb?pk=%s\">PDOS</a></td>'%node.pk\n",
    "        html += '</tr>'\n",
    "        \n",
    "    html += '</table>'\n",
    "    html += 'Found %d matching entries.<br>'%qb.count()\n",
    "    \n",
    "    #if inp_stoi.value and stoic:\n",
    "    #    print combine_wc_dict\n",
    "    #    reactions = determine_reactions(stoic, combine_wc_dict.keys())\n",
    "    #    fav_reactions = determine_favorable_reaction(reactions, combine_wc_dict)\n",
    "    #    html += '\\n'\n",
    "    #    html += 'Mixed spectra with same Stoichiometry'\n",
    "    #    html += '<table border=1 id=\"aiida_results2\" style=\"margin:10px;\"><tr>'\n",
    "    #    html += '<th></th>'\n",
    "    #    html += '<th>Reaction</th>'\n",
    "    #    html += '<th>Formation energy [eV per atom]</th>'\n",
    "    #    html += '<th>PKs</th>'\n",
    "    #    html += '<th>Details</th>'\n",
    "    #    html += '</tr>'\n",
    "\n",
    "    \n",
    "    html += '\\n'    \n",
    "    #html += '<input type=\"submit\" value=\"Plot\">'\n",
    "    #html += '<input type=\"submit\" value=\"Calculate Mixtures\">'\n",
    "    html += '</form>'\n",
    "\n",
    "    results.value = html"
   ]
  },
  {
   "cell_type": "code",
   "execution_count": 6,
   "metadata": {},
   "outputs": [],
   "source": [
    "# search UI\n",
    "style = {\"description_width\":\"100px\"}\n",
    "layout = ipw.Layout(width=\"692px\")#ipw.Layout(width=\"592px\")\n",
    "#inp_wc_types = ipw.Text(description='Workchain types:', placeholder='e.g. fleur_initial_cls_wc (space separated, default)', layout=layout, style=style)\n",
    "#inp_pks = ipw.Text(description='PKs:', placeholder='e.g. 4062 4753 (space separated)', layout=layout, style=style)\n",
    "inp_formula = ipw.Text(description='Formulas:', placeholder='e.g. Be-W', layout=layout, style=style)\n",
    "inp_stoi_form = ipw.Text(description='Stoichiometry:', placeholder='e.g. Be12W', layout=layout, style=style)\n",
    "#inp_stoi = ipw.Checkbox(value=True, description='Auto show mixtures with same Stoichiometry', disabled=False)\n",
    "\n",
    "\n",
    "def slider(desc, min, max):\n",
    "    return ipw.FloatRangeSlider(description=desc, min=min, max=max, \n",
    "                                    value=[min, max], step=0.05, layout=layout, style=style)\n",
    "\n",
    "#inp_gap = slider(\"Gap [eV]:\", 0.0, +3.0)\n",
    "#inp_efermi = slider(\"Fermi Energy [eV]:\", -6.0, +6.0)\n",
    "inp_enthalp = slider(\"Pseudo enthalpy [meV/unit]:\", -6.0, +6.0)\n",
    "search_crit = [inp_formula, inp_stoi_form, inp_enthalp]#,\n",
    "               #inp_cls, inp_max,# inp_stoi, inp_stoi_form,\n",
    "               #inp_gap, inp_efermi]"
   ]
  },
  {
   "cell_type": "code",
   "execution_count": 7,
   "metadata": {},
   "outputs": [
    {
     "data": {
      "application/vnd.jupyter.widget-view+json": {
       "model_id": "0fc38d46be9f433f9f4fa91678eb2f85",
       "version_major": 2,
       "version_minor": 0
      },
      "text/plain": [
       "A Jupyter Widget"
      ]
     },
     "metadata": {},
     "output_type": "display_data"
    }
   ],
   "source": [
    "def on_click(b):\n",
    "    with info_out:\n",
    "        clear_output()\n",
    "        rank_reactions_for_stoi()\n",
    "\n",
    "button = ipw.Button(description=\"Search reactions\")\n",
    "button.on_click(on_click)\n",
    "results = ipw.HTML()\n",
    "info_out = ipw.Output()\n",
    "app = ipw.VBox(children=search_crit + [button, results, info_out])\n",
    "display(app)"
   ]
  },
  {
   "cell_type": "code",
   "execution_count": null,
   "metadata": {},
   "outputs": [],
   "source": []
  }
 ],
 "metadata": {
  "kernelspec": {
   "display_name": "Python 2",
   "language": "python",
   "name": "python2"
  },
  "language_info": {
   "codemirror_mode": {
    "name": "ipython",
    "version": 2
   },
   "file_extension": ".py",
   "mimetype": "text/x-python",
   "name": "python",
   "nbconvert_exporter": "python",
   "pygments_lexer": "ipython2",
   "version": "2.7.10"
  },
  "toc": {
   "colors": {
    "hover_highlight": "#DAA520",
    "navigate_num": "#000000",
    "navigate_text": "#333333",
    "running_highlight": "#FF0000",
    "selected_highlight": "#FFD700",
    "sidebar_border": "#EEEEEE",
    "wrapper_background": "#FFFFFF"
   },
   "moveMenuLeft": true,
   "nav_menu": {
    "height": "12px",
    "width": "252px"
   },
   "navigate_menu": true,
   "number_sections": true,
   "sideBar": true,
   "skip_h1_title": false,
   "threshold": 4,
   "toc_cell": false,
   "toc_section_display": "block",
   "toc_window_display": false,
   "widenNotebook": false
  },
  "varInspector": {
   "cols": {
    "lenName": 16,
    "lenType": 16,
    "lenVar": 40
   },
   "kernels_config": {
    "python": {
     "delete_cmd_postfix": "",
     "delete_cmd_prefix": "del ",
     "library": "var_list.py",
     "varRefreshCmd": "print(var_dic_list())"
    },
    "r": {
     "delete_cmd_postfix": ") ",
     "delete_cmd_prefix": "rm(",
     "library": "var_list.r",
     "varRefreshCmd": "cat(var_dic_list()) "
    }
   },
   "types_to_exclude": [
    "module",
    "function",
    "builtin_function_or_method",
    "instance",
    "_Feature"
   ],
   "window_display": false
  }
 },
 "nbformat": 4,
 "nbformat_minor": 2
}
