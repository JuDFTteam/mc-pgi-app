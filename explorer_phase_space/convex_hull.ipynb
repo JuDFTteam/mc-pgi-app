{
 "cells": [
  {
   "cell_type": "code",
   "execution_count": 7,
   "metadata": {},
   "outputs": [],
   "source": [
    "# GUI for Search the whole database for scf calculations and initial state calculations\n",
    "# for a certain material system for now, binary"
   ]
  },
  {
   "cell_type": "code",
   "execution_count": 8,
   "metadata": {},
   "outputs": [],
   "source": [
    "# from these extract, or calculate formation energy\n",
    "# calculate and plot a convex hull\n",
    "# everything above is/should be written somewhere else\n",
    "# show what is on the hull\n",
    "# allo the user to select from what a hull should be constructed"
   ]
  },
  {
   "cell_type": "markdown",
   "metadata": {},
   "source": [
    "# Search Phase diagrams"
   ]
  },
  {
   "cell_type": "markdown",
   "metadata": {},
   "source": [
    "Welcome! Here you can extract phase diagram data from the database of DFT calcualtions. The GUI is for a quite simple specific querry. Enjoy! Created @ PGI-1 by Jens Broeder"
   ]
  },
  {
   "cell_type": "code",
   "execution_count": 9,
   "metadata": {},
   "outputs": [
    {
     "name": "stdout",
     "output_type": "stream",
     "text": [
      "The autoreload extension is already loaded. To reload it, use:\n",
      "  %reload_ext autoreload\n"
     ]
    }
   ],
   "source": [
    "%load_ext autoreload\n",
    "%autoreload 2\n",
    "#%matplotlib notebook\n",
    "%matplotlib inline"
   ]
  },
  {
   "cell_type": "code",
   "execution_count": 10,
   "metadata": {},
   "outputs": [],
   "source": [
    "from aiida import load_dbenv, is_dbenv_loaded\n",
    "from aiida.backends import settings\n",
    "if not is_dbenv_loaded():\n",
    "    load_dbenv(profile=settings.AIIDADB_PROFILE)\n",
    "    \n",
    "from aiida.orm.querybuilder import QueryBuilder\n",
    "from aiida.orm.calculation.work import WorkCalculation\n",
    "from aiida.orm.calculation.job import JobCalculation\n",
    "from aiida.orm.data.parameter import ParameterData\n",
    "from plot_methods.plot_fleur_aiida import plot_spectra\n",
    "import plot_methods\n",
    "from aiida_fleur.tools.common_fleur_wf import determine_favorable_reaction\n",
    "from aiida_fleur.tools.common_fleur_wf_util import determine_reactions\n",
    "\n",
    "from base64 import b64encode\n",
    "import StringIO\n",
    "import numpy as np\n",
    "import ipywidgets as ipw\n",
    "import matplotlib.pyplot as plt\n",
    "from IPython.display import display, clear_output\n",
    "import ase\n",
    "\n",
    "from ase.data import covalent_radii, atomic_numbers\n",
    "from ase.data.colors import cpk_colors\n",
    "from ase.neighborlist import NeighborList"
   ]
  },
  {
   "cell_type": "code",
   "execution_count": 11,
   "metadata": {},
   "outputs": [],
   "source": [
    "############################   START OF PREPROCESSING   ###############################"
   ]
  },
  {
   "cell_type": "code",
   "execution_count": null,
   "metadata": {},
   "outputs": [],
   "source": [
    "PREPROCESS_VERSION = 6.011\n",
    "\n",
    "def preprocess_newbies():\n",
    "    pass"
   ]
  },
  {
   "cell_type": "code",
   "execution_count": 12,
   "metadata": {},
   "outputs": [],
   "source": [
    "############################   END OF PREPROCESSING   ###############################"
   ]
  },
  {
   "cell_type": "code",
   "execution_count": null,
   "metadata": {},
   "outputs": [],
   "source": [
    "def plot_hull():\n",
    "    pass\n",
    "    results.value = \"preprocessing...\"\n",
    "    preprocess_newbies()\n",
    "    \n",
    "    results.value = \"searching...\"\n",
    "    # search the database for all calculations containing these elements\n",
    "    # only these and their compounds\n",
    "    # get their formation energies\n",
    "    # construct he convex hull\n",
    "    # plot the convex hull\n",
    "    # create an html table, which shows all calculations involved, \n",
    "    # ranked with stable first."
   ]
  },
  {
   "cell_type": "code",
   "execution_count": null,
   "metadata": {},
   "outputs": [],
   "source": [
    "def determine_reactions():\n",
    "    pass\n",
    "    # for the given stoi and the compounds "
   ]
  },
  {
   "cell_type": "code",
   "execution_count": null,
   "metadata": {},
   "outputs": [],
   "source": []
  },
  {
   "cell_type": "code",
   "execution_count": 13,
   "metadata": {},
   "outputs": [],
   "source": [
    "# search UI\n",
    "style = {\"description_width\":\"100px\"}\n",
    "layout = ipw.Layout(width=\"692px\")#ipw.Layout(width=\"592px\")\n",
    "#inp_wc_types = ipw.Text(description='Workchain types:', placeholder='e.g. fleur_initial_cls_wc (space separated, default)', layout=layout, style=style)\n",
    "#inp_pks = ipw.Text(description='PKs:', placeholder='e.g. 4062 4753 (space separated)', layout=layout, style=style)\n",
    "inp_formula = ipw.Text(description='Formulas:', placeholder='e.g. Be-W', layout=layout, style=style)\n",
    "inp_stoi_form = ipw.Text(description='Stoichiometry:', placeholder='e.g. Be12W', layout=layout, style=style)\n",
    "#inp_stoi = ipw.Checkbox(value=True, description='Auto show mixtures with same Stoichiometry', disabled=False)\n",
    "\n",
    "\n",
    "def slider(desc, min, max):\n",
    "    return ipw.FloatRangeSlider(description=desc, min=min, max=max, \n",
    "                                    value=[min, max], step=0.05, layout=layout, style=style)\n",
    "\n",
    "#inp_gap = slider(\"Gap [eV]:\", 0.0, +3.0)\n",
    "#inp_efermi = slider(\"Fermi Energy [eV]:\", -6.0, +6.0)\n",
    "inp_above_hull_cut = slider(\"Above hull [meV/unit]:\", 0.0, +1.0)\n",
    "search_crit = [inp_formula, inp_stoi_form, inp_above_hull_cut]#,\n",
    "               #inp_cls, inp_max,# inp_stoi, inp_stoi_form,\n",
    "               #inp_gap, inp_efermi]"
   ]
  },
  {
   "cell_type": "code",
   "execution_count": 14,
   "metadata": {},
   "outputs": [
    {
     "data": {
      "application/vnd.jupyter.widget-view+json": {
       "model_id": "bd78f135e12f43ec8392e98eaff1e92c",
       "version_major": 2,
       "version_minor": 0
      },
      "text/plain": [
       "A Jupyter Widget"
      ]
     },
     "metadata": {},
     "output_type": "display_data"
    }
   ],
   "source": [
    "def on_click(b):\n",
    "    with info_out:\n",
    "        clear_output()\n",
    "        plot_hull()\n",
    "        determine_reactions()\n",
    "\n",
    "button = ipw.Button(description=\"Plot convex hull\")\n",
    "button.on_click(on_click)\n",
    "results = ipw.HTML()\n",
    "info_out = ipw.Output()\n",
    "app = ipw.VBox(children=search_crit + [button, results, info_out])\n",
    "display(app)"
   ]
  },
  {
   "cell_type": "code",
   "execution_count": null,
   "metadata": {},
   "outputs": [],
   "source": []
  }
 ],
 "metadata": {
  "kernelspec": {
   "display_name": "Python 2",
   "language": "python",
   "name": "python2"
  },
  "language_info": {
   "codemirror_mode": {
    "name": "ipython",
    "version": 2
   },
   "file_extension": ".py",
   "mimetype": "text/x-python",
   "name": "python",
   "nbconvert_exporter": "python",
   "pygments_lexer": "ipython2",
   "version": "2.7.10"
  },
  "toc": {
   "colors": {
    "hover_highlight": "#DAA520",
    "navigate_num": "#000000",
    "navigate_text": "#333333",
    "running_highlight": "#FF0000",
    "selected_highlight": "#FFD700",
    "sidebar_border": "#EEEEEE",
    "wrapper_background": "#FFFFFF"
   },
   "moveMenuLeft": true,
   "nav_menu": {
    "height": "12px",
    "width": "252px"
   },
   "navigate_menu": true,
   "number_sections": true,
   "sideBar": true,
   "skip_h1_title": false,
   "threshold": 4,
   "toc_cell": false,
   "toc_section_display": "block",
   "toc_window_display": false,
   "widenNotebook": false
  },
  "varInspector": {
   "cols": {
    "lenName": 16,
    "lenType": 16,
    "lenVar": 40
   },
   "kernels_config": {
    "python": {
     "delete_cmd_postfix": "",
     "delete_cmd_prefix": "del ",
     "library": "var_list.py",
     "varRefreshCmd": "print(var_dic_list())"
    },
    "r": {
     "delete_cmd_postfix": ") ",
     "delete_cmd_prefix": "rm(",
     "library": "var_list.r",
     "varRefreshCmd": "cat(var_dic_list()) "
    }
   },
   "types_to_exclude": [
    "module",
    "function",
    "builtin_function_or_method",
    "instance",
    "_Feature"
   ],
   "window_display": false
  }
 },
 "nbformat": 4,
 "nbformat_minor": 2
}
