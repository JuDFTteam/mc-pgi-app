{
 "cells": [
  {
   "cell_type": "markdown",
   "metadata": {},
   "source": [
    "# Visualization for Core-level spectra"
   ]
  },
  {
   "cell_type": "markdown",
   "metadata": {},
   "source": [
    "Welcome! Here you can plot theoretical core-level spectra from the data in the database.\n",
    "This GUI just wraps some functionalities of the method 'plot_methods.plot_fleur_aiida.plot_spectra'.\n",
    "You can export the data or save the plot. Enjoy! Created @ PGI-1 by Jens Broeder "
   ]
  },
  {
   "cell_type": "code",
   "execution_count": null,
   "metadata": {
    "scrolled": true
   },
   "outputs": [],
   "source": [
    "%load_ext autoreload\n",
    "%autoreload 2\n",
    "#%matplotlib notebook\n",
    "%matplotlib inline"
   ]
  },
  {
   "cell_type": "code",
   "execution_count": null,
   "metadata": {
    "scrolled": true
   },
   "outputs": [],
   "source": [
    "from __future__ import print_function\n",
    "\n",
    "from aiida import load_profile\n",
    "load_profile()\n",
    "\n",
    "from aiida.orm import FolderData\n",
    "from aiida.orm import load_node \n",
    "\n",
    "import ipywidgets as ipw\n",
    "from IPython.display import display, clear_output\n",
    "import nglview\n",
    "\n",
    "from urllib.parse import urlparse, parse_qs, urlsplit\n",
    "from collections import OrderedDict\n",
    "from pprint import pformat\n",
    "import ase.io\n",
    "from base64 import b64encode\n",
    "\n",
    "#from plot_methods.plot_fleur_aiida import plot_spectra\n",
    "#from aiida_fleur.tools.io_routines import write_xps_spectra_datafile\n",
    "\n",
    "#import plot_methods"
   ]
  },
  {
   "cell_type": "code",
   "execution_count": null,
   "metadata": {},
   "outputs": [],
   "source": [
    "from xps_analysis.plot.plot_spectrum import plot_spectra\n",
    "from aiida_fleur.tools.io_routines import write_xps_spectra_datafile\n"
   ]
  },
  {
   "cell_type": "code",
   "execution_count": null,
   "metadata": {
    "scrolled": true
   },
   "outputs": [],
   "source": [
    "#?plot_spectra"
   ]
  },
  {
   "cell_type": "code",
   "execution_count": null,
   "metadata": {
    "scrolled": true
   },
   "outputs": [],
   "source": [
    "def prepare_input():\n",
    "    inputs = {}\n",
    "    inputs['energy_range'] = [0, 200]\n",
    "    #node = load_node(int(inp_pk.value))\n",
    "    pklist = inp_pks.value.strip().split()\n",
    "    if pklist:\n",
    "        pklist_new = []\n",
    "        for pk in pklist:\n",
    "            #try:\n",
    "            pk_new = int(pk)\n",
    "            #except:\n",
    "            pklist_new.append(pk_new) \n",
    "        inputs['wc_nodes'] = pklist_new\n",
    "    \n",
    "    if inp_egrid.value:\n",
    "        inputs['energy_grid'] = inp_egrid.value\n",
    "    \n",
    "    if inp_erange_min.value:\n",
    "        inputs['energy_range'] = [inp_erange_min.value, inputs['energy_range'][1]]\n",
    "\n",
    "    if inp_erange_max.value:\n",
    "        inputs['energy_range'] = [inputs['energy_range'][0], inp_erange_max.value]\n",
    "\n",
    "    if inp_fwhm_l.value:\n",
    "        inputs['fwhm_l'] = inp_fwhm_l.value\n",
    "\n",
    "    if inp_fwhm_g.value:\n",
    "        inputs['fwhm_g'] = inp_fwhm_g.value\n",
    "\n",
    "    peakfunc = inp_peakfun.value.strip().split()\n",
    "    if peakfunc:        \n",
    "        if len(peakfunc) != 1:\n",
    "            print('You can only provide one peakfunction name. I use voigts as default...')\n",
    "        else:\n",
    "            inputs['peakfunction'] = peakfunc[0]\n",
    "    \n",
    "    factors = inp_factors.value.strip().split()\n",
    "    if factors:        \n",
    "        if len(factors) != len(pklist):\n",
    "            print('The number of factors you provide must be equals to the number of nodes provided. I skip these factors...')\n",
    "        else:\n",
    "            factors_new = []\n",
    "            for factor in factors:\n",
    "                factors_new.append(float(factor))\n",
    "            inputs['factors'] = factors_new\n",
    "            print(factors_new)\n",
    "        \n",
    "    return inputs\n",
    "\n",
    "#plot_spectra(wc_nodes, title='', factors=[], energy_range=[100, 120], fwhm_g=0.6, fwhm_l=0.1, energy_grid=0.2, peakfunction='voigt', linetyp_spec='o-', warn_ref=False, **kwargs)"
   ]
  },
  {
   "cell_type": "code",
   "execution_count": null,
   "metadata": {},
   "outputs": [],
   "source": [
    "def prepare_download_input():\n",
    "    return_dict = {}\n",
    " \n",
    "    pklist = inp_pks.value.strip().split()\n",
    "    if pklist:\n",
    "        pklist_new = []\n",
    "        for pk in pklist:\n",
    "            #try:\n",
    "            pk_new = int(pk)\n",
    "            #except:\n",
    "            pklist_new.append(pk_new) \n",
    "        return_dict['nodes'] = pklist_new\n",
    "\n",
    "    factors = inp_factors.value.strip().split()\n",
    "    if factors:        \n",
    "        if len(factors) != len(pklist):\n",
    "             print('The number of factors you provide must be equals to the number of nodes provided. I skip these factors...')\n",
    "        else:\n",
    "            factors_new = []\n",
    "            for factor in factors:\n",
    "                factors_new.append(float(factor))\n",
    "            return_dict['factors'] = factors_new\n",
    "            #print(factors_new)\n",
    "    else:\n",
    "        return_dict['factors'] = []\n",
    "    \n",
    "    return_dict['destination'] = './outdata.txt'\n",
    "\n",
    "\n",
    "    \n",
    "    return return_dict\n",
    "#return all_wc_BeTi_uuid, factors, *returnvalues, destination=destination)"
   ]
  },
  {
   "cell_type": "code",
   "execution_count": null,
   "metadata": {
    "scrolled": true
   },
   "outputs": [],
   "source": [
    "# search UI\n",
    "style = {\"description_width\":\"100px\"}\n",
    "layout = ipw.Layout(width=\"692px\")\n",
    "btn_sub = ipw.Button(description=\"Plot\")\n",
    "btn_download = ipw.Button(description=\"Download Data\")\n",
    "inp_pks = ipw.Text(description=\"Nodes PK/UUID: \", placeholder='e.g. 4062 4753 (space separated)', layout=layout, style=style)\n",
    "inp_factors = ipw.Text(description=\"Factors:\", placeholder='e.g. 5.1 1 1 (space seperator # of factors has to be equal # of pks)', layout=layout, style=style)\n",
    "inp_erange_min = ipw.BoundedFloatText(value=0, min=0, max=2000, step=0.1, description='Emin [eV]:', disabled=False, \n",
    "                            continuous_update=False, readout_format='.1f')\n",
    "inp_erange_max = ipw.BoundedFloatText(value=400, min=0, max=2000, step=0.1, description='Emax [eV]:', disabled=False, \n",
    "                            continuous_update=False,  readout_format='.1f')\n",
    "inp_egrid = ipw.FloatSlider(value=0.020, min=0, max=0.5, step=0.001, description='Energy grid [eV]:', disabled=False, \n",
    "                            continuous_update=False, orientation='horizontal', readout=True, readout_format='.3f')\n",
    "inp_fwhm_l = ipw.FloatSlider(value=0.1, min=0, max=2.0, step=0.01, description='fwhm_l [eV]:', disabled=False, \n",
    "                            continuous_update=False, orientation='horizontal', readout=True, readout_format='.2f')\n",
    "inp_fwhm_g = ipw.FloatSlider(value=0.6, min=0, max=2.0, step=0.01, description='fwhm_g [eV]:', disabled=False, \n",
    "                            continuous_update=False, orientation='horizontal', readout=True, readout_format='.2f')\n",
    "inp_peakfun = ipw.Text(description=\"Peakfunction type:\", placeholder='e.g. voigt gaus lorentz pseudo-voigt (only one)', layout=layout, style=style)\n",
    "\n",
    "\n",
    "\n",
    "\n",
    "function_user_input = [inp_pks, inp_factors, inp_erange_min, inp_erange_max, inp_egrid, inp_fwhm_l, inp_fwhm_g, inp_peakfun]"
   ]
  },
  {
   "cell_type": "code",
   "execution_count": null,
   "metadata": {},
   "outputs": [],
   "source": [
    "# disable scolling"
   ]
  },
  {
   "cell_type": "code",
   "execution_count": null,
   "metadata": {},
   "outputs": [],
   "source": [
    "%%javascript\n",
    "IPython.OutputArea.auto_scroll_threshold = 9999;"
   ]
  },
  {
   "cell_type": "code",
   "execution_count": null,
   "metadata": {
    "scrolled": false
   },
   "outputs": [],
   "source": [
    "data_global = None\n",
    "def on_submit(b):\n",
    "    global stack_list\n",
    "    global data_global\n",
    "    with output:\n",
    "        clear_output()\n",
    "        function_input = prepare_input()\n",
    "        data = plot_spectra(**function_input)\n",
    "        #print(data)\n",
    "        data_global = data\n",
    "        \n",
    "def download_data(b):\n",
    "    global stack_list\n",
    "    if not data_global:\n",
    "        print('HINT: You first have to plot some data, before exporting.')\n",
    "        return\n",
    "    download_input = prepare_download_input()\n",
    "    destination = download_input['destination']\n",
    "    #print('Storing datafile under {}'.format(destination))\n",
    "    write_xps_spectra_datafile(download_input['nodes'], download_input['factors'], *data_global, destination=destination)\n",
    "        \n",
    "inp_pks.on_submit(on_submit)\n",
    "btn_sub.on_click(on_submit)\n",
    "btn_download.on_click(download_data)\n",
    "output = ipw.Output()\n",
    "app = ipw.VBox(children=function_user_input + [btn_download, btn_sub, output])\n",
    "display(app)"
   ]
  },
  {
   "cell_type": "code",
   "execution_count": null,
   "metadata": {
    "scrolled": true
   },
   "outputs": [],
   "source": [
    "#stack_list = ipw.VBox()\n",
    "#display(stack_list)"
   ]
  },
  {
   "cell_type": "code",
   "execution_count": null,
   "metadata": {
    "scrolled": true
   },
   "outputs": [],
   "source": [
    "# parse URL\n",
    "url = urlsplit(jupyter_notebook_url)\n",
    "querypart = parse_qs(url.query)\n",
    "if 'pk' in querypart.keys():\n",
    "    #print(querypart['pk'])\n",
    "    pksting = ''\n",
    "    for pk in querypart['pk']:\n",
    "        pksting = pksting + '{} '.format(pk)\n",
    "    inp_pks.value = pksting.strip()\n",
    "    on_submit(None)"
   ]
  },
  {
   "cell_type": "code",
   "execution_count": null,
   "metadata": {
    "scrolled": true
   },
   "outputs": [],
   "source": [
    "#!ls"
   ]
  },
  {
   "cell_type": "code",
   "execution_count": null,
   "metadata": {
    "scrolled": false
   },
   "outputs": [],
   "source": [
    "#!cat out.txt"
   ]
  },
  {
   "cell_type": "code",
   "execution_count": null,
   "metadata": {},
   "outputs": [],
   "source": []
  }
 ],
 "metadata": {
  "@webio": {
   "lastCommId": null,
   "lastKernelId": null
  },
  "kernelspec": {
   "display_name": "Python 3",
   "language": "python",
   "name": "python3"
  },
  "language_info": {
   "codemirror_mode": {
    "name": "ipython",
    "version": 3
   },
   "file_extension": ".py",
   "mimetype": "text/x-python",
   "name": "python",
   "nbconvert_exporter": "python",
   "pygments_lexer": "ipython3",
   "version": "3.7.6"
  },
  "toc": {
   "nav_menu": {
    "height": "228px",
    "width": "252px"
   },
   "number_sections": true,
   "sideBar": true,
   "skip_h1_title": false,
   "toc_cell": false,
   "toc_position": {
    "height": "886px",
    "left": "0px",
    "right": "auto",
    "top": "106px",
    "width": "212px"
   },
   "toc_section_display": "block",
   "toc_window_display": false
  },
  "varInspector": {
   "cols": {
    "lenName": 16,
    "lenType": 16,
    "lenVar": 40
   },
   "kernels_config": {
    "python": {
     "delete_cmd_postfix": "",
     "delete_cmd_prefix": "del ",
     "library": "var_list.py",
     "varRefreshCmd": "print(var_dic_list())"
    },
    "r": {
     "delete_cmd_postfix": ") ",
     "delete_cmd_prefix": "rm(",
     "library": "var_list.r",
     "varRefreshCmd": "cat(var_dic_list()) "
    }
   },
   "types_to_exclude": [
    "module",
    "function",
    "builtin_function_or_method",
    "instance",
    "_Feature"
   ],
   "window_display": false
  }
 },
 "nbformat": 4,
 "nbformat_minor": 2
}
