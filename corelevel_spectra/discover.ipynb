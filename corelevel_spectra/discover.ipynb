{
 "cells": [
  {
   "cell_type": "markdown",
   "metadata": {},
   "source": []
  },
  {
   "cell_type": "code",
   "execution_count": 1,
   "metadata": {},
   "outputs": [],
   "source": [
    "%load_ext autoreload\n",
    "%autoreload 2\n",
    "#%matplotlib notebook\n",
    "%matplotlib inline"
   ]
  },
  {
   "cell_type": "code",
   "execution_count": 2,
   "metadata": {},
   "outputs": [],
   "source": [
    "from aiida import load_dbenv, is_dbenv_loaded\n",
    "from aiida.backends import settings\n",
    "if not is_dbenv_loaded():\n",
    "    load_dbenv(profile=settings.AIIDADB_PROFILE)\n",
    "    \n",
    "from aiida.orm.querybuilder import QueryBuilder\n",
    "from aiida.orm.calculation.work import WorkCalculation\n",
    "from aiida.orm.calculation.job import JobCalculation\n",
    "\n",
    "from plot_methods.plot_fleur_aiida import plot_spectra\n",
    "import plot_methods\n",
    "\n",
    "from base64 import b64encode\n",
    "import StringIO\n",
    "import numpy as np\n",
    "import ipywidgets as ipw\n",
    "import matplotlib.pyplot as plt\n",
    "from IPython.display import display, clear_output\n",
    "\n",
    "from ase.data import covalent_radii, atomic_numbers\n",
    "from ase.data.colors import cpk_colors\n",
    "from ase.neighborlist import NeighborList"
   ]
  },
  {
   "cell_type": "markdown",
   "metadata": {},
   "source": [
    "# Search Criteria"
   ]
  },
  {
   "cell_type": "code",
   "execution_count": null,
   "metadata": {},
   "outputs": [],
   "source": []
  },
  {
   "cell_type": "code",
   "execution_count": 3,
   "metadata": {},
   "outputs": [],
   "source": [
    "############################   START OF PREPROCESSING   ###############################"
   ]
  },
  {
   "cell_type": "code",
   "execution_count": 4,
   "metadata": {},
   "outputs": [],
   "source": [
    "PREPROCESS_VERSION = 6.004\n",
    "\n",
    "def preprocess_newbies():\n",
    "    qb = QueryBuilder()\n",
    "    qb.append(WorkCalculation, filters={\n",
    "        'attributes._process_label': 'fleur_initial_cls_wc',\n",
    "        'or':[\n",
    "               {'extras': {'!has_key': 'preprocess_version'}},\n",
    "               {'extras.preprocess_version': {'<': PREPROCESS_VERSION}},\n",
    "           ],\n",
    "    })\n",
    "    \n",
    "    \n",
    "    for m in qb.all(): # iterall() would interfere with set_extra()\n",
    "        n = m[0]\n",
    "        if not n.is_sealed:\n",
    "            print(\"Skipping underway workchain PK %d\"%n.pk)\n",
    "            continue\n",
    "        if 'obsolete' not in n.get_extras():\n",
    "            n.set_extra('obsolete', False)\n",
    "        try:\n",
    "            preprocess_one(n)\n",
    "            n.set_extra('preprocess_successful', True)\n",
    "            n.set_extra('preprocess_version', PREPROCESS_VERSION)\n",
    "            print(\"Preprocessed PK %d\"%n.pk)\n",
    "        except Exception as e:\n",
    "            n.set_extra('preprocess_successful', False)\n",
    "            n.set_extra('preprocess_error', str(e))\n",
    "            n.set_extra('preprocess_version', PREPROCESS_VERSION)\n",
    "            print(\"Failed to preprocess PK %d: %s\"%(n.pk, e))"
   ]
  },
  {
   "cell_type": "code",
   "execution_count": 5,
   "metadata": {},
   "outputs": [],
   "source": [
    "def preprocess_one(workcalc):\n",
    "    # TODO : do we really want to set all the extra keys?\n",
    "    def get_calc_by_label(workcalc, label):\n",
    "        qb = QueryBuilder()\n",
    "        qb.append(WorkCalculation, filters={'uuid':workcalc.uuid})\n",
    "        qb.append(JobCalculation, output_of=WorkCalculation, filters={'label':label})\n",
    "        # process label?\n",
    "        if qb.count() != 1:\n",
    "            raise(Exception(\"Could not find %s calculation.\"%label))\n",
    "        calc = qb.first()[0]\n",
    "        return calc\n",
    "  \n",
    "    # Formula\n",
    "    structure = workcalc.inp.structure\n",
    "    ase_struct = structure.get_ase()\n",
    "    formula = ase_struct.get_chemical_formula()\n",
    "    symmetry = ''\n",
    "    workcalc.set_extra('formula', formula)\n",
    "    workcalc.set_extra('structure_description', structure.description)\n",
    "    \n",
    "    \n",
    "    # thumbnail\n",
    "    thumbnail = render_thumbnail(ase_struct)\n",
    "    workcalc.set_extra('thumbnail', thumbnail)\n",
    "    \n",
    "    # ensure all steps succeed\n",
    "    #all_steps = ['fleur_scf_wc']\n",
    "\n",
    "    #for label in all_steps:\n",
    "    #    calc = get_calc_by_label(workcalc, label)\n",
    "    #    if calc.get_state() != 'FINISHED':\n",
    "    #        raise(Exception(\"Calculation %s in state %s.\"%(label, calc.get_state())))\n",
    "    #    if \"aiida.out\" not in calc.out.retrieved.get_folder_list():\n",
    "    #        raise(Exception(\"Calculation %s did not retrive aiida.out\"%label))\n",
    "    #    #fn = calc.out.retrieved.get_abs_path(\"aiida.out\")\n",
    "    #    #content = open(fn).read()\n",
    "    #    #if \"JOB DONE.\" not in content:\n",
    "    #    #    raise(Exception(\"Calculation %s did not print JOB DONE.\"%label))\n",
    "    \n",
    "    # energies\n",
    "    #scf_calc = get_calc_by_label(workcalc, \"scf\")\n",
    "    #assert scf_calc.res['fermi_energy_units'] == 'eV'\n",
    "    #fermi_energy = scf_calc.res['fermi_energy']\n",
    "    #assert scf_calc.res['energy_units'] == 'eV'\n",
    "    #workcalc.set_extra('total_energy', scf_calc.res['energy'])\n",
    "    #workcalc.set_extra('opt_structure_uuid', scf_calc.inp.structure.uuid)\n",
    "    \n",
    "    # outputnode\n",
    "    #wc_outputpara_dict = workcalc.out.output_parameters\n",
    "    \n",
    "    # gap\n",
    "    #bandgap\n",
    "    #workcalc.set_extra('gap', gap)\n",
    "        \n",
    "    # vacuum level\n",
    "    #export_hartree_calc = get_calc_by_label(workcalc, \"export_hartree\")\n",
    "    #fn = export_hartree_calc.out.retrieved.get_abs_path(\"vacuum_hartree.dat\")\n",
    "    #data = np.loadtxt(fn)\n",
    "    #vacuum_level = np.mean(data[:,2]) * 27.211385 * 0.5\n",
    "    #workcalc.set_extra('vacuum_level', vacuum_level)\n",
    "    \n",
    "    # store shifted energies\n",
    "    #workcalc.set_extra('fermi_energy', fermi_energy - vacuum_level)\n",
    "    #if is_insulator:\n",
    "    #    workcalc.set_extra('homo', homo - vacuum_level)\n",
    "    #    workcalc.set_extra('lumo', lumo - vacuum_level)\n",
    "    #else:\n",
    "    #    workcalc.set_extra('homo', fermi_energy - vacuum_level)\n",
    "    #    workcalc.set_extra('lumo', fermi_energy - vacuum_level)"
   ]
  },
  {
   "cell_type": "code",
   "execution_count": 6,
   "metadata": {},
   "outputs": [],
   "source": [
    "def extract_information(workcalc):\n",
    "    from aiida_fleur.tools.StructureData_util import get_spacegroup\n",
    "    return_dict = {}\n",
    "    \n",
    "    # structure\n",
    "    structure = workcalc.inp.structure\n",
    "    structure_uuid = structure.uuid\n",
    "    formula = structure.get_formula()\n",
    "    space_group = get_spacegroup(structure)\n",
    "    return_dict['space_group'] = space_group\n",
    "    return_dict['structure_uuid'] = structure_uuid\n",
    "    \n",
    "    # outputnode\n",
    "    wc_outputpara_dict = workcalc.out.output_inital_cls_wc_para.get_dict()\n",
    "    \n",
    "    #bandgap\n",
    "    gap = wc_outputpara_dict.get('bandgap', {})\n",
    "    return_dict['bandgap'] = gap.get(formula, -100) # currently this is a dict...    \n",
    "    \n",
    "    #efermi\n",
    "    fermi_energy = wc_outputpara_dict.get('fermi_energy', {})\n",
    "    return_dict['fermi_energy'] = fermi_energy.get(formula, -100)\n",
    "    \n",
    "    return return_dict"
   ]
  },
  {
   "cell_type": "code",
   "execution_count": 7,
   "metadata": {},
   "outputs": [
    {
     "ename": "TypeError",
     "evalue": "get_spacegroup() takes exactly 1 argument (0 given)",
     "output_type": "error",
     "traceback": [
      "\u001b[0;31m---------------------------------------------------------------------------\u001b[0m",
      "\u001b[0;31mTypeError\u001b[0m                                 Traceback (most recent call last)",
      "\u001b[0;32m<ipython-input-7-44ae86601c68>\u001b[0m in \u001b[0;36m<module>\u001b[0;34m()\u001b[0m\n\u001b[1;32m      2\u001b[0m \u001b[0;34m\u001b[0m\u001b[0m\n\u001b[1;32m      3\u001b[0m \u001b[0;34m\u001b[0m\u001b[0m\n\u001b[0;32m----> 4\u001b[0;31m \u001b[0mget_spacegroup\u001b[0m\u001b[0;34m(\u001b[0m\u001b[0;34m)\u001b[0m\u001b[0;34m\u001b[0m\u001b[0m\n\u001b[0m",
      "\u001b[0;31mTypeError\u001b[0m: get_spacegroup() takes exactly 1 argument (0 given)"
     ]
    }
   ],
   "source": [
    "from aiida_fleur.tools.StructureData_util import get_spacegroup\n",
    "\n",
    "\n",
    "get_spacegroup()"
   ]
  },
  {
   "cell_type": "code",
   "execution_count": null,
   "metadata": {},
   "outputs": [],
   "source": [
    "def render_thumbnail(ase_struct):\n",
    "    s = ase_struct.repeat((2,1,1))\n",
    "    cov_radii = [covalent_radii[a.number] for a in s]\n",
    "    nl = NeighborList(cov_radii, bothways = True, self_interaction = False)\n",
    "    nl.update(s)\n",
    "    \n",
    "    fig, ax = plt.subplots()\n",
    "    ax.set_aspect(1)\n",
    "    ax.axes.set_xlim([0,s.cell[0][0]])\n",
    "    ax.axes.set_ylim([5,s.cell[1][1]-5])\n",
    "    #ax.set_axis_bgcolor((0.423,0.690,0.933))\n",
    "    ax.set_axis_bgcolor((0.85,0.85,0.85))\n",
    "    ax.axes.get_yaxis().set_visible(False)\n",
    "\n",
    "    #name = ase_struct.get_chemical_formula() # get name before repeat\n",
    "    #ax.set_xlabel(name, fontsize=12)\n",
    "    ax.tick_params(axis='x', which='both', bottom='off', top='off',labelbottom='off')\n",
    "    \n",
    "    for at in s:\n",
    "        #circles\n",
    "        x,y,z = at.position\n",
    "        n = atomic_numbers[at.symbol]\n",
    "        ax.add_artist(plt.Circle((x,y), covalent_radii[n]*0.5, color=cpk_colors[n], fill=True, clip_on=True))\n",
    "        #bonds\n",
    "        nlist = nl.get_neighbors(at.index)[0]\n",
    "        for theneig in nlist:\n",
    "            x,y,z = (s[theneig].position +  at.position)/2\n",
    "            x0,y0,z0 = at.position\n",
    "            if (x-x0)**2 + (y-y0)**2 < 2 :\n",
    "                ax.plot([x0,x],[y0,y],color=cpk_colors[n],linewidth=2,linestyle='-')\n",
    "\n",
    "    img = StringIO.StringIO()\n",
    "    fig.savefig(img, format=\"png\", dpi=72, bbox_inches='tight')\n",
    "    return b64encode(img.getvalue())"
   ]
  },
  {
   "cell_type": "code",
   "execution_count": 8,
   "metadata": {},
   "outputs": [],
   "source": [
    "############################   END OF PREPROCESSING   ###############################"
   ]
  },
  {
   "cell_type": "code",
   "execution_count": 9,
   "metadata": {},
   "outputs": [],
   "source": [
    "def search():\n",
    "\n",
    "    results.value = \"preprocessing...\"\n",
    "    preprocess_newbies()\n",
    "    \n",
    "    results.value = \"searching...\"\n",
    "    \n",
    "    # html table header\n",
    "    html  = '<style>#aiida_results td,th {padding: 2px}</style>' \n",
    "    #html += '<form action=\"compare.ipynb\" method=\"get\" target=\"_blank\">'\n",
    "    html += '<table border=1 id=\"aiida_results\" style=\"margin:10px;\"><tr>'\n",
    "    html += '<th></th>'\n",
    "    html += '<th>PK</th>'\n",
    "    #html += '<th>UUID</th>'\n",
    "    html += '<th>Workchain type</th>'\n",
    "    html += '<th>Creation Time</th>'\n",
    "    html += '<th>Formula</th>'\n",
    "    html += '<th>Symmetry</th>'\n",
    "    html += '<th>GAP [eV]</th>'\n",
    "    html += '<th>Fermi Energy [eV]</th>'\n",
    "    html += '<th>Structure</th>'\n",
    "    html += '<th>Spectrum preview</th>'\n",
    "    html += '<th></th>'\n",
    "    html += '</tr>'\n",
    "\n",
    "    # query AiiDA database\n",
    "    filters = {}\n",
    "    filters['attributes._process_label'] = 'fleur_initial_cls_wc'\n",
    "    #filters['extras.preprocess_version'] = PREPROCESS_VERSION\n",
    "    #filters['extras.preprocess_successful'] = True\n",
    "    #filters['extras.obsolete'] = False\n",
    "    \n",
    "    pk_list = inp_pks.value.strip().split()\n",
    "    if pk_list:\n",
    "        # TODO make a pk and uuid list\n",
    "        filters['id'] = {'in': pk_list}\n",
    "        #filters['uuid] = {'in': uuid_list}\n",
    "\n",
    "    formula_list = inp_formula.value.strip().split()\n",
    "    if inp_formula.value:\n",
    "        # TODO get formula rather from structure\n",
    "        # or workchain node itself\n",
    "        filters['extras.formula'] = {'in': formula_list}\n",
    "\n",
    "    def add_range_filter(bounds, label):\n",
    "        filters['extras.'+label] = {'and':[{'>=':bounds[0]}, {'<':bounds[1]}]}\n",
    "\n",
    "    #add_range_filter(inp_gap.value, \"gap\")\n",
    "    #add_range_filter(inp_efermi.value, \"fermi_energy\")\n",
    "\n",
    "    \n",
    "    qb = QueryBuilder()        \n",
    "    qb.append(WorkCalculation, filters=filters)\n",
    "    qb.order_by({WorkCalculation:{'ctime':'desc'}})\n",
    "    qb.limit(10)\n",
    "    \n",
    "    for i, node_tuple in enumerate(qb.iterall()):\n",
    "        node = node_tuple[0]\n",
    "        extras = node.get_extras()\n",
    "        thumbnail = extras.get('thumbnail')\n",
    "        description = extras.get('structure_description', '')\n",
    "        structure_uuid = extras.get('structure_uuid')\n",
    "        #opt_structure_uuid = node.get_extra('opt_structure_uuid')\n",
    "        print node\n",
    "        print type(node)\n",
    "        # TODO\n",
    "        res_node = extract_information(node)\n",
    "        # append table row\n",
    "        html += '<tr>'\n",
    "        html += '<td><input type=\"checkbox\" name=\"pk\" value=\"%s\"></td>'%node.pk\n",
    "        html += '<td><a target=\"_blank\" href=\"../../aiida/aiida_graph_browser.ipynb?pk=%d\">%d</a></td>' % (node.pk, node.pk)\n",
    "        #html += '<td>%s</td>' % node.uuid\n",
    "        html += '<td>%s</td>' % ''\n",
    "        html += '<td>%s</td>' % node.ctime.strftime(\"%Y-%m-%d %H:%M\")\n",
    "        html += '<td>%s</td>' % node.get_extra('formula', '..')\n",
    "        html += '<td>%s</td>' % node.get_extra('space_group' , '..')\n",
    "        html += '<td>%f</td>' % res_node.get('bandgap', -100)\n",
    "        html += '<td>%f</td>' % res_node.get('fermi_energy', -100)\n",
    "        #html += '<td></td>'\n",
    "        #html += '<td></td>'\n",
    "        #html += '<td></td>'\n",
    "        #html += '<td></td>'\n",
    "        html += '<td></td>'\n",
    "        #html += '<td></td>'\n",
    "        #html += '<td></td>'\n",
    "        html += '<td><a target=\"_blank\" href=\"./export_structure.ipynb?uuid=%s\">'%structure_uuid\n",
    "        html += '<img src=\"data:image/png;base64,%s\" title=\"%s\"></a></td>' % (thumbnail, description)\n",
    "        html += '<td></td>'\n",
    "        #html += '<td><a target=\"_blank\" href=\"./show.ipynb?pk=%s\">Show</a><br>'%node.pk\n",
    "        #html += '<a target=\"_blank\" href=\"./show_pdos.ipynb?pk=%s\">PDOS</a></td>'%node.pk\n",
    "        html += '</tr>'\n",
    "\n",
    "    html += '</table>'\n",
    "    html += 'Found %d matching entries.<br>'%qb.count()\n",
    "    html += '<input type=\"submit\" value=\"Compare\">'\n",
    "    html += '</form>'\n",
    "\n",
    "    results.value = html"
   ]
  },
  {
   "cell_type": "code",
   "execution_count": 10,
   "metadata": {},
   "outputs": [],
   "source": [
    "# search UI\n",
    "style = {\"description_width\":\"100px\"}\n",
    "layout = ipw.Layout(width=\"692px\")#ipw.Layout(width=\"592px\")\n",
    "inp_plugin = ipw.Text(description='Plugins:', placeholder='e.g. fleur.fleur (space separated)', layout=layout, style=style)\n",
    "inp_codes = ipw.Text(description='Codes:', placeholder='e.g. fleur_0.27@localhost (space separated)', layout=layout, style=style)\n",
    "inp_wc_types = ipw.Text(description='Workchain types:', placeholder='e.g. fleur_initial_cls_wc (space separated, default)', layout=layout, style=style)\n",
    "inp_pks = ipw.Text(description='PKs:', placeholder='e.g. 4062 4753 (space separated)', layout=layout, style=style)\n",
    "inp_formula = ipw.Text(description='Formulas:', placeholder='e.g. Be2W Be12W', layout=layout, style=style)\n",
    "inp_elements = ipw.Text(description='Contains Elements:', placeholder='e.g. Be W (space separated)', layout=layout, style=style)\n",
    "inp_cls = ipw.Text(description='Core-levels:', placeholder='e.g. Be1s W4f (space separated)', layout=layout, style=style)\n",
    "inp_max = ipw.Text(description='Maximum results:', placeholder='e.g. 10 (default 100)', layout=layout, style=style)\n",
    "\n",
    "\n",
    "def slider(desc, min, max):\n",
    "    return ipw.FloatRangeSlider(description=desc, min=min, max=max, \n",
    "                                    value=[min, max], step=0.05, layout=layout, style=style)\n",
    "\n",
    "inp_gap = slider(\"Gap [eV]:\", 0.0, +3.0)\n",
    "inp_efermi = slider(\"Fermi Energy [eV]:\", -6.0, -1.0)\n",
    "search_crit = [inp_plugin, inp_codes, inp_wc_types, inp_pks, inp_formula, inp_elements, inp_cls, inp_max, inp_gap, inp_efermi]"
   ]
  },
  {
   "cell_type": "code",
   "execution_count": 11,
   "metadata": {},
   "outputs": [
    {
     "data": {
      "application/vnd.jupyter.widget-view+json": {
       "model_id": "28016b010c114cfb92e53d1bacbb01a6",
       "version_major": 2,
       "version_minor": 0
      },
      "text/html": [
       "<p>Failed to display Jupyter Widget of type <code>VBox</code>.</p>\n",
       "<p>\n",
       "  If you're reading this message in the Jupyter Notebook or JupyterLab Notebook, it may mean\n",
       "  that the widgets JavaScript is still loading. If this message persists, it\n",
       "  likely means that the widgets JavaScript library is either not installed or\n",
       "  not enabled. See the <a href=\"https://ipywidgets.readthedocs.io/en/stable/user_install.html\">Jupyter\n",
       "  Widgets Documentation</a> for setup instructions.\n",
       "</p>\n",
       "<p>\n",
       "  If you're reading this message in another frontend (for example, a static\n",
       "  rendering on GitHub or <a href=\"https://nbviewer.jupyter.org/\">NBViewer</a>),\n",
       "  it may mean that your frontend doesn't currently support widgets.\n",
       "</p>\n"
      ],
      "text/plain": [
       "VBox(children=(Text(value=u'', description=u'Plugins:', layout=Layout(width=u'692px'), placeholder=u'e.g. fleur.fleur (space separated)', style=DescriptionStyle(description_width=u'100px')), Text(value=u'', description=u'Codes:', layout=Layout(width=u'692px'), placeholder=u'e.g. fleur_0.27@localhost (space separated)', style=DescriptionStyle(description_width=u'100px')), Text(value=u'', description=u'Workchain types:', layout=Layout(width=u'692px'), placeholder=u'e.g. fleur_initial_cls_wc (space separated, default)', style=DescriptionStyle(description_width=u'100px')), Text(value=u'', description=u'PKs:', layout=Layout(width=u'692px'), placeholder=u'e.g. 4062 4753 (space separated)', style=DescriptionStyle(description_width=u'100px')), Text(value=u'', description=u'Formulas:', layout=Layout(width=u'692px'), placeholder=u'e.g. Be2W Be12W', style=DescriptionStyle(description_width=u'100px')), Text(value=u'', description=u'Contains Elements:', layout=Layout(width=u'692px'), placeholder=u'e.g. Be W (space separated)', style=DescriptionStyle(description_width=u'100px')), Text(value=u'', description=u'Core-levels:', layout=Layout(width=u'692px'), placeholder=u'e.g. Be1s W4f (space separated)', style=DescriptionStyle(description_width=u'100px')), Text(value=u'', description=u'Maximum results:', layout=Layout(width=u'692px'), placeholder=u'e.g. 10 (default 100)', style=DescriptionStyle(description_width=u'100px')), FloatRangeSlider(value=(0.0, 3.0), description=u'Gap [eV]:', layout=Layout(width=u'692px'), max=3.0, step=0.05, style=SliderStyle(description_width=u'100px')), FloatRangeSlider(value=(-6.0, -1.0), description=u'Fermi Energy [eV]:', layout=Layout(width=u'692px'), max=-1.0, min=-6.0, step=0.05, style=SliderStyle(description_width=u'100px')), Button(description=u'Search', style=ButtonStyle()), HTML(value=u''), Output()))"
      ]
     },
     "metadata": {},
     "output_type": "display_data"
    }
   ],
   "source": [
    "def on_click(b):\n",
    "    with info_out:\n",
    "        clear_output()\n",
    "        search()\n",
    "\n",
    "button = ipw.Button(description=\"Search\")\n",
    "button.on_click(on_click)\n",
    "results = ipw.HTML()\n",
    "info_out = ipw.Output()\n",
    "app = ipw.VBox(children=search_crit + [button, results, info_out])\n",
    "display(app)"
   ]
  },
  {
   "cell_type": "markdown",
   "metadata": {},
   "source": [
    "# Search Results"
   ]
  },
  {
   "cell_type": "code",
   "execution_count": null,
   "metadata": {},
   "outputs": [],
   "source": []
  },
  {
   "cell_type": "markdown",
   "metadata": {},
   "source": [
    "# All workchain nodes"
   ]
  },
  {
   "cell_type": "markdown",
   "metadata": {},
   "source": [
    "collect here all successfull initial_cls and corehole wc on fusion materials"
   ]
  },
  {
   "cell_type": "markdown",
   "metadata": {},
   "source": [
    "## Pure Elements (for filling)"
   ]
  },
  {
   "cell_type": "code",
   "execution_count": null,
   "metadata": {},
   "outputs": [],
   "source": [
    "# Be\n",
    "# W\n",
    "W_wc_uuids = ['f8b12b23-0b71-45a1-9040-b51ccf379439']\n",
    "# Ti\n",
    "# Ta"
   ]
  },
  {
   "cell_type": "markdown",
   "metadata": {},
   "source": [
    "## Be-Ti"
   ]
  },
  {
   "cell_type": "code",
   "execution_count": null,
   "metadata": {},
   "outputs": [],
   "source": [
    "all_wc_BeTi_uuid = ['107b0727-15cf-4436-b614-79801cdadd8c', '0f25075d-6a7f-48a1-b837-c419eafc3017',\n",
    "                    '0df9be35-5cb8-482f-b3f0-3f38531e8983', '474a6902-bbd6-4bdb-b324-aab0932f85e6',\n",
    "                    'dff56acf-59d4-4056-80dc-90d76917fa78', '8e2896bf-0e2a-4a96-b494-11bf34e790e7', \n",
    "                    'd50bb22c-a3e5-4837-9d26-edc8b020a8f8']\n",
    "Be_ti_list_dict = [\n",
    "    {'spacegroup': u'Pm-3m (221)', 'uuid': u'3d53b191-0753-4bbb-bb48-e3b196ef87bd', \n",
    "     'structure': 'BeTi'}, \n",
    "    {'spacegroup': u'Fd-3m (227)', 'uuid': u'34903c2b-f152-4f3c-a729-38bab479f199', \n",
    "     'structure': 'Be16Ti8'}, \n",
    "    {'spacegroup': u'R-3m (166)', 'uuid': u'37e83f94-be97-426d-9831-ecc98db9abe0', \n",
    "     'structure': 'Be27Ti9'}, \n",
    "    {'spacegroup': u'Cmcm (63)', 'uuid': u'e5da7184-cadc-4af0-b748-7fe037c88a1c', \n",
    "     'structure': 'Be34Ti4'}, \n",
    "    {'spacegroup': u'R-3m (166)', 'uuid': u'f08180a4-62a2-455f-9223-465d56acc4c3', \n",
    "     'structure': 'Be51Ti6'}, \n",
    "    #{'spacegroup': u'Amm2 (38)', 'uuid': u'd2c0809e-b9ce-4e3a-bd2a-e7d080d4cf78', 'structure': 'Be12Ti'}, \n",
    "    {'spacegroup': u'Amm2 (38)', 'uuid': u'7c9a87c1-5f86-480a-9108-5cfc2a5e8991', \n",
    "     'structure': 'Be12Ti'}, \n",
    "    #{'spacegroup': u'I4/mmm (139)', 'uuid': u'da216c60-adf0-4e83-9557-8f9405976dc6', 'structure': 'Be24Ti2'}, \n",
    "    {'spacegroup': u'I4/mmm (139)', 'uuid': u'a1968b7e-76d7-46bc-81d7-de26683f563a', \n",
    "     'structure': 'Be24Ti2'}]\n",
    "all_be_ti_structures_uuid_refine = [u'711da5b2-5b09-4892-82af-79d783ccffa4', u'51b53332-12f2-4014-8c5b-0e3669369d49', \n",
    "                                    u'a7d7eb07-6fb9-449d-8b62-a8d5e9e437d3', u'db93ef57-659f-499e-a481-32a7182a316e', \n",
    "                                    u'4bda0721-9202-4b1e-ae35-53d59d63d153', u'f6cf556d-ad68-40ae-8ece-006b861c0a3a', \n",
    "                                    u'660cd37b-67ca-47df-a622-236ef227ace1']"
   ]
  },
  {
   "cell_type": "markdown",
   "metadata": {},
   "source": [
    "## Be-Ta"
   ]
  },
  {
   "cell_type": "code",
   "execution_count": null,
   "metadata": {},
   "outputs": [],
   "source": [
    "BeTa_initial_state_wcs = ['37f99e98-c375-45fa-95b1-53eb80a5bfd9',\n",
    "                          '8fc9dd6c-1f66-4c76-904f-703b81614999',\n",
    "                          '9d4a3111-05e3-4572-a53a-d7799419fa38',\n",
    "                          '48f2e31b-529c-43a1-a6d2-8c06d6a1c5b3',\n",
    "                          'a6dbca9d-b9fa-442a-aff5-58f667c8a98f',\n",
    "                          '54996657-4378-4172-b21d-9f782268d993']\n",
    "# one base struc was already primitive\n",
    "be_ta_refine_dis = [{'spacegroup': u'I4/mmm (139)', 'uuid': u'29d13b3d-3b43-4d8e-82ff-dc50cbbc26f5', \n",
    "                     'structure': 'Be12Ta'}, \n",
    "                    {'spacegroup': u'R-3m (166)', 'uuid': u'576cadf2-cc6f-48d9-bb9b-7cff33172b85', \n",
    "                     'structure': 'Be17Ta2'}, \n",
    "                    {'spacegroup': u'R-3m (166)', 'uuid': u'01bcc76f-2556-4ae6-a268-63f8e6f1e8d1', \n",
    "                     'structure': 'Be9Ta3'}, \n",
    "                    {'spacegroup': u'Fd-3m (227)', 'uuid': u'eef5e075-d4ce-423d-892d-59d2b2cfd87b', \n",
    "                     'structure': 'Be4Ta2'}, \n",
    "                    {'spacegroup': u'P4/mbm (127)', 'uuid': u'afdd35ff-5e63-4b6b-9991-f7ae8290497e', \n",
    "                     'structure': 'Be4Ta6'}, \n",
    "                    {'spacegroup': u'I4/mcm (140)', 'uuid': u'27f0d999-9ea2-4453-a96b-3f267c0bafe2', \n",
    "                     'structure': 'Be2Ta4'}]"
   ]
  },
  {
   "cell_type": "markdown",
   "metadata": {},
   "source": [
    "## Be-W"
   ]
  },
  {
   "cell_type": "code",
   "execution_count": null,
   "metadata": {},
   "outputs": [],
   "source": [
    "bew_init_wc_uuids = ['1e32880a-bdc9-4081-a5da-be04860aa1bc', \n",
    "                     '4f685bc5-b5fb-46d3-aad6-e0f512c3313d', \n",
    "                     '045d3071-f442-46b4-8d6b-3c85d72b24d4']\n",
    "\n",
    "w_be_refine_dis = [{'spacegroup': u'Fd-3m (227)', 'uuid': u'5cc04e73-7058-4a3e-b8da-6a385b4e7050', \n",
    "                    'structure': 'Be44W2'}, \n",
    "                   {'spacegroup': u'I4/mmm (139)', 'uuid': u'0a225156-25e1-49ef-9ce8-d67e20b42725', \n",
    "                    'structure': 'Be12W'}, \n",
    "                   {'spacegroup': u'Cmcm (63)', 'uuid': u'cd5a586c-9dd2-4971-94bc-2ff62666e86b', \n",
    "                    'structure': 'Be8W4'}]"
   ]
  },
  {
   "cell_type": "markdown",
   "metadata": {},
   "source": [
    "# Visualization"
   ]
  },
  {
   "cell_type": "markdown",
   "metadata": {},
   "source": [
    "## W"
   ]
  },
  {
   "cell_type": "code",
   "execution_count": null,
   "metadata": {
    "deletable": false,
    "editable": false,
    "run_control": {
     "frozen": true
    }
   },
   "outputs": [],
   "source": [
    "# Plot all W 4f spectra and their components\n",
    "for uuid in W_wc_uuids:\n",
    "    plot_spectra(uuid, energy_range=[30.0,36], energy_grid=0.02)"
   ]
  },
  {
   "cell_type": "markdown",
   "metadata": {},
   "source": [
    "## Be-Ti"
   ]
  },
  {
   "cell_type": "code",
   "execution_count": null,
   "metadata": {
    "deletable": false,
    "editable": false,
    "run_control": {
     "frozen": true
    }
   },
   "outputs": [],
   "source": [
    "# Plot all Be 1s spectra and their components\n",
    "for uuid in all_wc_BeTi_uuid:\n",
    "    plot_spectra(uuid, energy_range=[109.5,112.2], energy_grid=0.02)"
   ]
  },
  {
   "cell_type": "markdown",
   "metadata": {},
   "source": [
    "## Be-Ta"
   ]
  },
  {
   "cell_type": "code",
   "execution_count": null,
   "metadata": {
    "deletable": false,
    "editable": false,
    "run_control": {
     "frozen": true
    }
   },
   "outputs": [],
   "source": [
    "# Plot all Be 1s spectra and their components\n",
    "for uuid in BeTa_initial_state_wcs:\n",
    "    plot_spectra(uuid, energy_range=[108.5,112.2], energy_grid=0.02)"
   ]
  },
  {
   "cell_type": "code",
   "execution_count": null,
   "metadata": {
    "scrolled": true
   },
   "outputs": [],
   "source": [
    "# Plot all Be 4f spectra and their components\n",
    "for uuid in BeTa_initial_state_wcs:\n",
    "    plot_spectra(uuid, energy_range=[20,26], energy_grid=0.02)"
   ]
  },
  {
   "cell_type": "markdown",
   "metadata": {},
   "source": [
    "# Be-W"
   ]
  },
  {
   "cell_type": "code",
   "execution_count": null,
   "metadata": {
    "deletable": false,
    "editable": false,
    "run_control": {
     "frozen": true
    }
   },
   "outputs": [],
   "source": [
    "# Plot all Be 1s spectra and their components\n",
    "for uuid in bew_init_wc_uuids:\n",
    "    plot_spectra(uuid, energy_range=[109.5,113.2], energy_grid=0.02)"
   ]
  },
  {
   "cell_type": "code",
   "execution_count": null,
   "metadata": {
    "deletable": false,
    "editable": false,
    "run_control": {
     "frozen": true
    }
   },
   "outputs": [],
   "source": [
    "# Plot all W 4f spectra and their components\n",
    "for uuid in bew_init_wc_uuids:\n",
    "    plot_spectra(uuid, energy_range=[29.0,35.5], energy_grid=0.02)"
   ]
  },
  {
   "cell_type": "code",
   "execution_count": null,
   "metadata": {},
   "outputs": [],
   "source": [
    "#?plot_spectra()"
   ]
  },
  {
   "cell_type": "code",
   "execution_count": null,
   "metadata": {},
   "outputs": [],
   "source": [
    "#3 How would Be2W and Be12W look together?"
   ]
  },
  {
   "cell_type": "code",
   "execution_count": null,
   "metadata": {},
   "outputs": [],
   "source": [
    "be_w = ['4f685bc5-b5fb-46d3-aad6-e0f512c3313d', '045d3071-f442-46b4-8d6b-3c85d72b24d4'] # Be12W Be2W"
   ]
  },
  {
   "cell_type": "code",
   "execution_count": null,
   "metadata": {},
   "outputs": [],
   "source": [
    "# Be 1s"
   ]
  },
  {
   "cell_type": "code",
   "execution_count": null,
   "metadata": {
    "deletable": false,
    "editable": false,
    "run_control": {
     "frozen": true
    }
   },
   "outputs": [],
   "source": [
    "a,b,c = plot_spectra(be_w, energy_range=[109.5,113.2], energy_grid=0.02)"
   ]
  },
  {
   "cell_type": "code",
   "execution_count": null,
   "metadata": {
    "deletable": false,
    "editable": false,
    "run_control": {
     "frozen": true
    }
   },
   "outputs": [],
   "source": [
    "a,b,b = plot_spectra(be_w, energy_range=[29.0,35.5], energy_grid=0.02)"
   ]
  },
  {
   "cell_type": "code",
   "execution_count": null,
   "metadata": {},
   "outputs": [],
   "source": []
  },
  {
   "cell_type": "code",
   "execution_count": null,
   "metadata": {},
   "outputs": [],
   "source": [
    "# You can change the ratios:"
   ]
  },
  {
   "cell_type": "code",
   "execution_count": null,
   "metadata": {
    "deletable": false,
    "editable": false,
    "run_control": {
     "frozen": true
    }
   },
   "outputs": [],
   "source": [
    "a,b,c = plot_spectra(be_w, factors=[1,5], energy_range=[109.5,113.2], energy_grid=0.02)"
   ]
  },
  {
   "cell_type": "code",
   "execution_count": null,
   "metadata": {},
   "outputs": [],
   "source": [
    "a,b,c = plot_spectra(be_w, factors=[1,5], energy_range=[29.0,35.5], energy_grid=0.02)"
   ]
  },
  {
   "cell_type": "code",
   "execution_count": null,
   "metadata": {},
   "outputs": [],
   "source": [
    "be_w_w = ['4f685bc5-b5fb-46d3-aad6-e0f512c3313d', \n",
    "          '045d3071-f442-46b4-8d6b-3c85d72b24d4', \n",
    "          'f8b12b23-0b71-45a1-9040-b51ccf379439'] # Be12W Be2W, W"
   ]
  },
  {
   "cell_type": "code",
   "execution_count": null,
   "metadata": {
    "deletable": false,
    "editable": false,
    "run_control": {
     "frozen": true
    }
   },
   "outputs": [],
   "source": [
    "# Be2W stoic, but with Be12W + Be2W + 5W\n",
    "a,b,c = plot_spectra(be_w_w, factors=[1,0.25,5], energy_range=[29.0,35.5], energy_grid=0.02)"
   ]
  },
  {
   "cell_type": "code",
   "execution_count": null,
   "metadata": {
    "deletable": false,
    "editable": false,
    "run_control": {
     "frozen": true
    }
   },
   "outputs": [],
   "source": [
    "# Be2W stoic, but with Be12W + 5 Be2W + 5W\n",
    "a,b,c = plot_spectra(be_w_w, factors=[1,5*0.25,5], energy_range=[29.0,35.5], energy_grid=0.02)"
   ]
  },
  {
   "cell_type": "code",
   "execution_count": null,
   "metadata": {
    "deletable": false,
    "editable": false,
    "run_control": {
     "frozen": true
    }
   },
   "outputs": [],
   "source": [
    "a,b,c = plot_spectra(be_w_w, factors=[1,1,5], energy_range=[29.0,35.5], energy_grid=0.02)"
   ]
  },
  {
   "cell_type": "markdown",
   "metadata": {},
   "source": [
    "# Comments/Outlook"
   ]
  },
  {
   "cell_type": "markdown",
   "metadata": {},
   "source": [
    "To keep Stoichiometry constant we need to be able to add, Elements (corelevel shifts 0)\n",
    "in order to do this in the current framework, we need to have an initial state workchain run of these elements. (Always good to check anyway)\n",
    "It might be an Idea to allow the plot spectrum method to deal with fleur_scf_wc nodes, but this case might be missleading, because if one plots a scf of some alloy, their corelevelshifts will be by default also 0.... The current plot method also does not have the option to show only the contributions from the individual alloys as one line. For this at least one interface has to change slightly. But one can currently plot them in seperate plots for sure."
   ]
  },
  {
   "cell_type": "markdown",
   "metadata": {},
   "source": [
    "Also this method still needs the logic to deal with the corehole workchain results anyway. I could not test surfaces yet, since I do not have a initial_cls_wc run of a surface yet. Maybe for the surfaces one would like to have additional parameters (penetration depth and spotsize?  to accound for an angular dependence). "
   ]
  },
  {
   "cell_type": "code",
   "execution_count": null,
   "metadata": {},
   "outputs": [],
   "source": []
  },
  {
   "cell_type": "code",
   "execution_count": null,
   "metadata": {},
   "outputs": [],
   "source": []
  }
 ],
 "metadata": {
  "kernelspec": {
   "display_name": "Python 2",
   "language": "python",
   "name": "python2"
  },
  "language_info": {
   "codemirror_mode": {
    "name": "ipython",
    "version": 2
   },
   "file_extension": ".py",
   "mimetype": "text/x-python",
   "name": "python",
   "nbconvert_exporter": "python",
   "pygments_lexer": "ipython2",
   "version": "2.7.10"
  },
  "toc": {
   "colors": {
    "hover_highlight": "#DAA520",
    "navigate_num": "#000000",
    "navigate_text": "#333333",
    "running_highlight": "#FF0000",
    "selected_highlight": "#FFD700",
    "sidebar_border": "#EEEEEE",
    "wrapper_background": "#FFFFFF"
   },
   "moveMenuLeft": true,
   "nav_menu": {
    "height": "228px",
    "width": "252px"
   },
   "navigate_menu": true,
   "number_sections": true,
   "sideBar": true,
   "skip_h1_title": false,
   "threshold": 4,
   "toc_cell": false,
   "toc_position": {
    "height": "886px",
    "left": "0px",
    "right": "auto",
    "top": "106px",
    "width": "212px"
   },
   "toc_section_display": "block",
   "toc_window_display": false,
   "widenNotebook": false
  },
  "varInspector": {
   "cols": {
    "lenName": 16,
    "lenType": 16,
    "lenVar": 40
   },
   "kernels_config": {
    "python": {
     "delete_cmd_postfix": "",
     "delete_cmd_prefix": "del ",
     "library": "var_list.py",
     "varRefreshCmd": "print(var_dic_list())"
    },
    "r": {
     "delete_cmd_postfix": ") ",
     "delete_cmd_prefix": "rm(",
     "library": "var_list.r",
     "varRefreshCmd": "cat(var_dic_list()) "
    }
   },
   "types_to_exclude": [
    "module",
    "function",
    "builtin_function_or_method",
    "instance",
    "_Feature"
   ],
   "window_display": false
  }
 },
 "nbformat": 4,
 "nbformat_minor": 2
}
